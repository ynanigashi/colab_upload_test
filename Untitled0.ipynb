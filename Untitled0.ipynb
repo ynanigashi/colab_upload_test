{
  "nbformat": 4,
  "nbformat_minor": 0,
  "metadata": {
    "colab": {
      "name": "Untitled0.ipynb",
      "provenance": [],
      "authorship_tag": "ABX9TyOIYEIrpSi58bFxVBkJMSFD",
      "include_colab_link": true
    },
    "kernelspec": {
      "name": "python3",
      "display_name": "Python 3"
    },
    "language_info": {
      "name": "python"
    }
  },
  "cells": [
    {
      "cell_type": "markdown",
      "metadata": {
        "id": "view-in-github",
        "colab_type": "text"
      },
      "source": [
        "<a href=\"https://colab.research.google.com/github/ynanigashi/colab_upload_test/blob/main/Untitled0.ipynb\" target=\"_parent\"><img src=\"https://colab.research.google.com/assets/colab-badge.svg\" alt=\"Open In Colab\"/></a>"
      ]
    },
    {
      "cell_type": "code",
      "execution_count": null,
      "metadata": {
        "id": "argYmM-KgLsA"
      },
      "outputs": [],
      "source": [
        ""
      ]
    },
    {
      "cell_type": "code",
      "source": [
        "from google.colab import drive\n",
        "drive.mount('/content/drive')"
      ],
      "metadata": {
        "id": "tiG7WxomKihh",
        "outputId": "d580f3ca-bbed-4a83-8973-5df85910b7d0",
        "colab": {
          "base_uri": "https://localhost:8080/"
        }
      },
      "execution_count": 1,
      "outputs": [
        {
          "output_type": "stream",
          "name": "stdout",
          "text": [
            "Mounted at /content/drive\n"
          ]
        }
      ]
    },
    {
      "cell_type": "code",
      "source": [
        "import csv\n",
        "csvfile = open('/content/drive/MyDrive/Colab Notebooks/test.csv', encoding='utf-8')\n",
        "csvreader = csv.DictReader(csvfile)\n",
        "for row in csvreader:\n",
        "  print(row)"
      ],
      "metadata": {
        "colab": {
          "base_uri": "https://localhost:8080/"
        },
        "id": "jpqS4aQbgzLp",
        "outputId": "af487b08-97b2-4f03-fb2c-626d31bb5353"
      },
      "execution_count": 2,
      "outputs": [
        {
          "output_type": "stream",
          "name": "stdout",
          "text": [
            "OrderedDict([('a_01', 'a_02'), ('b_01', 'b_02'), ('c_01', 'c_02')])\n",
            "OrderedDict([('a_01', 'a_03'), ('b_01', 'b_03'), ('c_01', 'c_03')])\n",
            "OrderedDict([('a_01', 'a_04'), ('b_01', 'b_04'), ('c_01', 'c_04')])\n",
            "OrderedDict([('a_01', 'a_05'), ('b_01', 'b_05'), ('c_01', 'c_05')])\n",
            "OrderedDict([('a_01', 'a_06'), ('b_01', 'b_06'), ('c_01', 'c_06')])\n",
            "OrderedDict([('a_01', 'a_07'), ('b_01', 'b_07'), ('c_01', 'c_07')])\n",
            "OrderedDict([('a_01', 'a_08'), ('b_01', 'b_08'), ('c_01', 'c_08')])\n",
            "OrderedDict([('a_01', 'a_09'), ('b_01', 'b_09'), ('c_01', 'c_09')])\n",
            "OrderedDict([('a_01', 'a_10'), ('b_01', 'b_10'), ('c_01', 'c_10')])\n",
            "OrderedDict([('a_01', 'a_11'), ('b_01', 'b_11'), ('c_01', 'c_11')])\n",
            "OrderedDict([('a_01', 'a_12'), ('b_01', 'b_12'), ('c_01', 'c_12')])\n",
            "OrderedDict([('a_01', 'a_13'), ('b_01', 'b_13'), ('c_01', 'c_13')])\n",
            "OrderedDict([('a_01', 'a_14'), ('b_01', 'b_14'), ('c_01', 'c_14')])\n",
            "OrderedDict([('a_01', 'a_15'), ('b_01', 'b_15'), ('c_01', 'c_15')])\n",
            "OrderedDict([('a_01', 'a_16'), ('b_01', 'b_16'), ('c_01', 'c_16')])\n",
            "OrderedDict([('a_01', 'a_17'), ('b_01', 'b_17'), ('c_01', 'c_17')])\n",
            "OrderedDict([('a_01', 'a_18'), ('b_01', 'b_18'), ('c_01', 'c_18')])\n",
            "OrderedDict([('a_01', 'a_19'), ('b_01', 'b_19'), ('c_01', 'c_19')])\n"
          ]
        }
      ]
    }
  ]
}